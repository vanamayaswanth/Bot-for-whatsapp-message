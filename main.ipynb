{
 "cells": [
  {
   "cell_type": "code",
   "execution_count": null,
   "metadata": {},
   "outputs": [],
   "source": [
    "#create a bot used to send messages to a whatsapp contact\n",
    "from selenium import webdriver\n",
    "from selenium.webdriver.common.keys import Keys\n",
    "import time\n",
    "import os\n",
    "import sys\n",
    "import subprocess\n",
    "import re\n",
    "import json\n",
    "\n",
    "#open the browser\n",
    "driver = webdriver.Chrome()\n",
    "driver.get(\"https://web.whatsapp.com/\")\n",
    "time.sleep(10)\n",
    "\n",
    "#open the file with the contacts\n",
    "with open('contacts.json') as json_file:\n",
    "    data = json.load(json_file)\n",
    "    for contact in data['contacts']:\n",
    "        #search the contact\n",
    "        search = driver.find_element_by_xpath(\"//div[contains(@class, '_2_1wd copyable-text selectable-text')]\")\n",
    "        search.send_keys(contact)\n",
    "        search.send_keys(Keys.RETURN)\n",
    "        time.sleep(2)\n",
    "        #send the message\n",
    "        msg_box = driver.find_element_by_xpath(\"//div[contains(@class, '_2_1wd copyable-text selectable-text')]\")\n",
    "        msg_box.send_keys(\"Hello, this is a test message\")\n",
    "        msg_box.send_keys(Keys.RETURN)\n",
    "        time.sleep(2)\n",
    "\n",
    "#close the browser\n",
    "driver.close()\n",
    "\n",
    "\n",
    "\n"
   ]
  }
 ],
 "metadata": {
  "kernelspec": {
   "display_name": "Python 3.9.7 ('auto')",
   "language": "python",
   "name": "python3"
  },
  "language_info": {
   "name": "python",
   "version": "3.9.7"
  },
  "orig_nbformat": 4,
  "vscode": {
   "interpreter": {
    "hash": "42c0bfb2633f25ffd77d1a5544a05cc9b4b4bc3e4ac6f71d88f10b08ceaf3b14"
   }
  }
 },
 "nbformat": 4,
 "nbformat_minor": 2
}
